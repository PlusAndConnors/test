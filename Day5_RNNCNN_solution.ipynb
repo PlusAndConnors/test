{
 "cells": [
  {
   "cell_type": "code",
   "execution_count": 1,
   "metadata": {},
   "outputs": [],
   "source": [
    "import torch\n",
    "import torch.nn as nn\n",
    "import torch.optim as optim\n",
    "import torch.nn.functional as F\n",
    "from torchvision import datasets, transforms, utils\n",
    "from torch.utils import data\n",
    "\n",
    "import matplotlib.pyplot as plt\n",
    "import numpy as np"
   ]
  },
  {
   "cell_type": "code",
   "execution_count": 2,
   "metadata": {},
   "outputs": [],
   "source": [
    "USE_CUDA = torch.cuda.is_available()\n",
    "DEVICE = torch.device(\"cuda\" if USE_CUDA else \"cpu\")"
   ]
  },
  {
   "cell_type": "code",
   "execution_count": 3,
   "metadata": {},
   "outputs": [],
   "source": [
    "transform=transforms.ToTensor()"
   ]
  },
  {
   "cell_type": "code",
   "execution_count": 4,
   "metadata": {},
   "outputs": [],
   "source": [
    "# Hyper-parameters\n",
    "sequence_length = 28\n",
    "input_size = 28\n",
    "hidden_size = 128\n",
    "num_layers = 2\n",
    "num_classes = 10\n",
    "batch_size = 100\n",
    "num_epochs = 2\n",
    "learning_rate = 0.01"
   ]
  },
  {
   "cell_type": "code",
   "execution_count": 5,
   "metadata": {},
   "outputs": [],
   "source": [
    "trainset = datasets.MNIST(\n",
    "    root      = './.data/', \n",
    "    train     = True,\n",
    "    download  = True,\n",
    "    transform = transform\n",
    ")\n",
    "testset = datasets.MNIST(\n",
    "    root      = './.data/', \n",
    "    train     = False,\n",
    "    download  = True,\n",
    "    transform = transform\n",
    ")"
   ]
  },
  {
   "cell_type": "code",
   "execution_count": 6,
   "metadata": {},
   "outputs": [],
   "source": [
    "train_loader = data.DataLoader(\n",
    "    dataset     = trainset,\n",
    "    batch_size  = batch_size, shuffle=True\n",
    ")\n",
    "test_loader = data.DataLoader(\n",
    "    dataset     = testset,\n",
    "    batch_size  = batch_size, shuffle=False\n",
    ")"
   ]
  },
  {
   "cell_type": "code",
   "execution_count": 7,
   "metadata": {},
   "outputs": [],
   "source": [
    "dataiter = iter(train_loader)\n",
    "images, labels = next(dataiter)"
   ]
  },
  {
   "cell_type": "code",
   "execution_count": 8,
   "metadata": {},
   "outputs": [
    {
     "data": {
      "text/plain": [
       "torch.Size([1, 28, 28])"
      ]
     },
     "execution_count": 8,
     "metadata": {},
     "output_type": "execute_result"
    }
   ],
   "source": [
    "images[0].shape"
   ]
  },
  {
   "cell_type": "code",
   "execution_count": 9,
   "metadata": {},
   "outputs": [
    {
     "name": "stdout",
     "output_type": "stream",
     "text": [
      "tensor([3, 3, 1, 2, 4, 3, 4, 5, 6, 9, 3, 7, 3, 1, 5, 9, 4, 1, 0, 7, 7, 2, 2, 8,\n",
      "        1, 8, 8, 9, 2, 8, 9, 2, 8, 2, 7, 2, 0, 6, 4, 0, 4, 5, 7, 1, 5, 7, 7, 4,\n",
      "        2, 3, 8, 5, 3, 3, 8, 1, 6, 8, 4, 4, 0, 2, 4, 1, 8, 8, 4, 4, 8, 6, 6, 5,\n",
      "        1, 0, 8, 9, 2, 8, 6, 5, 0, 1, 9, 4, 3, 1, 2, 9, 9, 4, 6, 8, 0, 4, 1, 9,\n",
      "        3, 7, 6, 2])\n"
     ]
    }
   ],
   "source": [
    "print(labels)"
   ]
  },
  {
   "cell_type": "code",
   "execution_count": 10,
   "metadata": {},
   "outputs": [
    {
     "name": "stdout",
     "output_type": "stream",
     "text": [
      "three\n",
      "three\n",
      "one\n",
      "two\n",
      "four\n",
      "three\n",
      "four\n",
      "five\n",
      "six\n",
      "nine\n",
      "three\n",
      "seven\n",
      "three\n",
      "one\n",
      "five\n",
      "nine\n",
      "four\n",
      "one\n",
      "zero\n",
      "seven\n",
      "seven\n",
      "two\n",
      "two\n",
      "eight\n",
      "one\n",
      "eight\n",
      "eight\n",
      "nine\n",
      "two\n",
      "eight\n",
      "nine\n",
      "two\n",
      "eight\n",
      "two\n",
      "seven\n",
      "two\n",
      "zero\n",
      "six\n",
      "four\n",
      "zero\n",
      "four\n",
      "five\n",
      "seven\n",
      "one\n",
      "five\n",
      "seven\n",
      "seven\n",
      "four\n",
      "two\n",
      "three\n",
      "eight\n",
      "five\n",
      "three\n",
      "three\n",
      "eight\n",
      "one\n",
      "six\n",
      "eight\n",
      "four\n",
      "four\n",
      "zero\n",
      "two\n",
      "four\n",
      "one\n",
      "eight\n",
      "eight\n",
      "four\n",
      "four\n",
      "eight\n",
      "six\n",
      "six\n",
      "five\n",
      "one\n",
      "zero\n",
      "eight\n",
      "nine\n",
      "two\n",
      "eight\n",
      "six\n",
      "five\n",
      "zero\n",
      "one\n",
      "nine\n",
      "four\n",
      "three\n",
      "one\n",
      "two\n",
      "nine\n",
      "nine\n",
      "four\n",
      "six\n",
      "eight\n",
      "zero\n",
      "four\n",
      "one\n",
      "nine\n",
      "three\n",
      "seven\n",
      "six\n",
      "two\n"
     ]
    }
   ],
   "source": [
    "CLASSES = {\n",
    "    0: 'zero',\n",
    "    1: 'one',\n",
    "    2: 'two',\n",
    "    3: 'three',\n",
    "    4: 'four',\n",
    "    5: 'five',\n",
    "    6: 'six',\n",
    "    7: 'seven',\n",
    "    8: 'eight',\n",
    "    9: 'nine'\n",
    "}\n",
    "\n",
    "\n",
    "for label in labels:\n",
    "    index = label.item()\n",
    "    print(CLASSES[index])"
   ]
  },
  {
   "cell_type": "code",
   "execution_count": 11,
   "metadata": {},
   "outputs": [
    {
     "name": "stdout",
     "output_type": "stream",
     "text": [
      "(28, 28)\n"
     ]
    },
    {
     "data": {
      "image/png": "[encoded data removed]",
      "text/plain": [
       "<Figure size 432x288 with 1 Axes>"
      ]
     },
     "metadata": {
      "needs_background": "light"
     },
     "output_type": "display_data"
    }
   ],
   "source": [
    "idx = 1\n",
    "\n",
    "item_img = images[idx]\n",
    "item_npimg = item_img.squeeze().numpy()\n",
    "plt.title(CLASSES[labels[idx].item()])\n",
    "print(item_npimg.shape)\n",
    "plt.imshow(item_npimg, cmap='gray')\n",
    "plt.show()"
   ]
  },
  {
   "cell_type": "code",
   "execution_count": 12,
   "metadata": {},
   "outputs": [],
   "source": [
    "# class Net(nn.Module):\n",
    "#     def __init__(self):\n",
    "#         super(Net, self).__init__()\n",
    "#         self.fc1 = nn.Linear(784, 256)\n",
    "#         self.fc2 = nn.Linear(256, 128)\n",
    "#         self.fc3 = nn.Linear(128, 10)\n",
    "\n",
    "#     def forward(self, x):\n",
    "#         x = x.view(-1, 784)\n",
    "# #         x = F.relu(self.fc1(x))\n",
    "# #         x = F.relu(self.fc2(x))        \n",
    "#         x = torch.sigmoid(self.fc1(x))\n",
    "#         x = torch.sigmoid(self.fc2(x))\n",
    "#         x = self.fc3(x)\n",
    "#         return x"
   ]
  },
  {
   "cell_type": "code",
   "execution_count": 13,
   "metadata": {},
   "outputs": [],
   "source": [
    "# class Net(nn.Module):\n",
    "#     def __init__(self, dropout_p=0.2):\n",
    "#         super(Net, self).__init__()\n",
    "#         self.fc1 = nn.Linear(784, 256)\n",
    "#         self.fc2 = nn.Linear(256, 128)\n",
    "#         self.fc3 = nn.Linear(128, 10)\n",
    "#         # 드롭아웃 확률\n",
    "#         self.dropout_p = dropout_p\n",
    "\n",
    "#     def forward(self, x):\n",
    "#         x = x.view(-1, 784)\n",
    "#         x = F.relu(self.fc1(x))\n",
    "#         # 드롭아웃 추가\n",
    "#         x = F.dropout(x, training=self.training,\n",
    "#                       p=self.dropout_p)\n",
    "#         x = F.relu(self.fc2(x))\n",
    "#         # 드롭아웃 추가\n",
    "#         x = F.dropout(x, training=self.training,\n",
    "#                       p=self.dropout_p)\n",
    "#         x = self.fc3(x)\n",
    "#         return x"
   ]
  },
  {
   "cell_type": "code",
   "execution_count": 14,
   "metadata": {},
   "outputs": [],
   "source": [
    "# class Net(nn.Module):\n",
    "#     def __init__(self):\n",
    "#         super(Net, self).__init__()\n",
    "#         self.conv1 = nn.Conv2d(1, 64, kernel_size=3, padding=1)\n",
    "#         self.conv2 = nn.Conv2d(64, 64, kernel_size=3, padding=1)\n",
    "#         self.conv2_drop = nn.Dropout2d(p=0.2)\n",
    "#         self.fc1 = nn.Linear(320, 50)\n",
    "#         self.fc2 = nn.Linear(50, 10)\n",
    "\n",
    "#     def forward(self, x):\n",
    "#         x = F.relu(F.max_pool2d(self.conv1(x), 2))\n",
    "#         x = F.relu(F.max_pool2d(self.conv2_drop(self.conv2(x)), 2))\n",
    "#         x = x.view(-1, 320)\n",
    "#         x = F.relu(self.fc1(x))\n",
    "#         x = F.dropout(x, training=self.training)\n",
    "#         x = self.fc2(x)\n",
    "#         return F.log_softmax(x, dim=1)"
   ]
  },
  {
   "cell_type": "code",
   "execution_count": 15,
   "metadata": {},
   "outputs": [],
   "source": [
    "class RNN(nn.Module):\n",
    "    def __init__(self, input_size, hidden_size, num_layers, num_classes):\n",
    "        super(RNN, self).__init__()\n",
    "        self.hidden_size = hidden_size\n",
    "        self.num_layers = num_layers\n",
    "#         self.rnn = nn.RNN(input_size, hidden_size, num_layers, batch_first=True, nonlinearity='relu')\n",
    "#         self.lstm = nn.LSTM(input_size, hidden_size, num_layers, batch_first=True)\n",
    "        self.gru = nn.GRU(input_size, hidden_size, num_layers, batch_first=True)\n",
    "        self.fc = nn.Linear(hidden_size, num_classes)\n",
    "    \n",
    "    def forward(self, x):\n",
    "#         self.gru.flatten_parameters()\n",
    "\n",
    "        # Set initial hidden and cell states \n",
    "        h0 = torch.zeros(self.num_layers, x.size(0), self.hidden_size).to(DEVICE) \n",
    "#         c0 = torch.zeros(self.num_layers, x.size(0), self.hidden_size).to(DEVICE)\n",
    "        \n",
    "        # Forward propagate LSTM\n",
    "#         out, hn = self.rnn(x, h0)\n",
    "#         out, _ = self.lstm(x, (h0, c0))  # out: tensor of shape (batch_size, seq_length, hidden_size)\n",
    "        out, _ = self.gru(x, h0)  # out: tensor of shape (batch_size, seq_length, hidden_size)        \n",
    "                \n",
    "        # Decode the hidden state of the last time step\n",
    "        out = self.fc(out[:, -1, :])\n",
    "        return out"
   ]
  },
  {
   "cell_type": "code",
   "execution_count": 16,
   "metadata": {},
   "outputs": [],
   "source": [
    "model = RNN(input_size, hidden_size, num_layers, num_classes).to(DEVICE)"
   ]
  },
  {
   "cell_type": "code",
   "execution_count": 17,
   "metadata": {},
   "outputs": [],
   "source": [
    "# Loss and optimizer\n",
    "criterion = nn.CrossEntropyLoss()\n",
    "optimizer = torch.optim.Adam(model.parameters(), lr=learning_rate)"
   ]
  },
  {
   "cell_type": "code",
   "execution_count": 18,
   "metadata": {},
   "outputs": [
    {
     "name": "stdout",
     "output_type": "stream",
     "text": [
      "Epoch [1/2], Step [100/600], Loss: 0.3131\n",
      "Epoch [1/2], Step [200/600], Loss: 0.1131\n",
      "Epoch [1/2], Step [300/600], Loss: 0.1034\n",
      "Epoch [1/2], Step [400/600], Loss: 0.2148\n",
      "Epoch [1/2], Step [500/600], Loss: 0.1013\n",
      "Epoch [1/2], Step [600/600], Loss: 0.1097\n",
      "Epoch [2/2], Step [100/600], Loss: 0.1268\n",
      "Epoch [2/2], Step [200/600], Loss: 0.0478\n",
      "Epoch [2/2], Step [300/600], Loss: 0.0504\n",
      "Epoch [2/2], Step [400/600], Loss: 0.0255\n",
      "Epoch [2/2], Step [500/600], Loss: 0.1516\n",
      "Epoch [2/2], Step [600/600], Loss: 0.1082\n"
     ]
    }
   ],
   "source": [
    "# Train the model\n",
    "total_step = len(train_loader)\n",
    "for epoch in range(num_epochs):\n",
    "    for i, (images, labels) in enumerate(train_loader):\n",
    "        images = images.reshape(-1, sequence_length, input_size).to(DEVICE)\n",
    "        labels = labels.to(DEVICE)\n",
    "        \n",
    "        # Forward pass\n",
    "        outputs = model(images)\n",
    "        loss = criterion(outputs, labels)\n",
    "        \n",
    "        # Backward and optimize\n",
    "        optimizer.zero_grad()\n",
    "        loss.backward()\n",
    "        optimizer.step()\n",
    "        \n",
    "        if (i+1) % 100 == 0:\n",
    "            print ('Epoch [{}/{}], Step [{}/{}], Loss: {:.4f}' \n",
    "                   .format(epoch+1, num_epochs, i+1, total_step, loss.item()))"
   ]
  },
  {
   "cell_type": "code",
   "execution_count": 19,
   "metadata": {},
   "outputs": [
    {
     "name": "stdout",
     "output_type": "stream",
     "text": [
      "Test Accuracy of the model on the 10000 test images: 95.73 %\n"
     ]
    }
   ],
   "source": [
    "model.eval()\n",
    "with torch.no_grad():\n",
    "    correct = 0\n",
    "    total = 0\n",
    "    for images, labels in test_loader:\n",
    "        images = images.reshape(-1, sequence_length, input_size).to(DEVICE)\n",
    "        labels = labels.to(DEVICE)\n",
    "        outputs = model(images)\n",
    "        _, predicted = torch.max(outputs.data, 1)\n",
    "        total += labels.size(0)\n",
    "        correct += (predicted == labels).sum().item()\n",
    "\n",
    "    print('Test Accuracy of the model on the 10000 test images: {} %'.format(100 * correct / total)) "
   ]
  },
  {
   "cell_type": "code",
   "execution_count": 20,
   "metadata": {},
   "outputs": [
    {
     "data": {
      "image/png": "[encoded data removed]",
      "text/plain": [
       "<Figure size 720x720 with 36 Axes>"
      ]
     },
     "metadata": {
      "needs_background": "light"
     },
     "output_type": "display_data"
    }
   ],
   "source": [
    "columns = 6\n",
    "rows = 6\n",
    "fig = plt.figure(figsize=(10,10))\n",
    " \n",
    "model.eval()\n",
    "for i in range(1, columns*rows+1):\n",
    "    data_idx = np.random.randint(len(testset))\n",
    "    input_img = testset[data_idx][0].reshape(-1, sequence_length, input_size).to(DEVICE)\n",
    " \n",
    "    output = model(input_img)\n",
    "    _, argmax = torch.max(output, 1)\n",
    "    pred = CLASSES[argmax.item()]\n",
    "    label = CLASSES[testset[data_idx][1]]\n",
    "    \n",
    "    fig.add_subplot(rows, columns, i)\n",
    "    if pred == label:\n",
    "        plt.title(pred + ', right')\n",
    "        cmap = 'Blues'\n",
    "    else:\n",
    "        plt.title('N ' + pred + ' B ' +  label)\n",
    "        cmap = 'Reds'\n",
    "    plot_img = testset[data_idx][0][0,:,:]\n",
    "    plt.imshow(plot_img, cmap=cmap)\n",
    "    plt.axis('off')\n",
    "    \n",
    "plt.show() "
   ]
  },
  {
   "cell_type": "code",
   "execution_count": 29,
   "metadata": {},
   "outputs": [],
   "source": [
    "import torch\n",
    "from torchvision import datasets, transforms\n",
    "from torch.autograd import Variable\n",
    "import torch.nn.functional as f\n",
    "\n",
    "class DataLoader:\n",
    "    def get_train_data(batch_size):\n",
    "        return torch.utils.data.DataLoader(\n",
    "            datasets.MNIST(\n",
    "                './.data',\n",
    "                train=True,\n",
    "                download=True,\n",
    "                transform=transforms.Compose([\n",
    "                    transforms.ToTensor(),\n",
    "                    transforms.Normalize((0.1307,), (0.3081,))\n",
    "                ])),\n",
    "            batch_size=batch_size,\n",
    "            shuffle=True)\n",
    "\n",
    "    def get_test_data(test_batch_size):\n",
    "        return torch.utils.data.DataLoader(\n",
    "            datasets.MNIST(\n",
    "                './.data',\n",
    "                train=False,\n",
    "                transform=transforms.Compose([\n",
    "                    transforms.ToTensor(),\n",
    "                    transforms.Normalize((0.1307,), (0.3081,))\n",
    "                ])),\n",
    "            batch_size=test_batch_size,\n",
    "            shuffle=True)"
   ]
  },
  {
   "cell_type": "code",
   "execution_count": 30,
   "metadata": {},
   "outputs": [],
   "source": [
    "class CNN(nn.Module):\n",
    "    def __init__(self):\n",
    "        super(CNN, self).__init__()\n",
    "        self.conv1 = nn.Sequential(\n",
    "            nn.Conv2d(\n",
    "                in_channels=1,\n",
    "                out_channels=16,\n",
    "                kernel_size=5,\n",
    "                stride=1,\n",
    "                padding=2,\n",
    "            ),\n",
    "            nn.ReLU(),\n",
    "            nn.MaxPool2d(kernel_size=2),\n",
    "        )\n",
    "        self.conv2 = nn.Sequential(\n",
    "            nn.Conv2d(16, 32, 5, 1, 2),\n",
    "            nn.ReLU(),\n",
    "            nn.MaxPool2d(2),\n",
    "        )\n",
    "        self.out = nn.Linear(32 * 7 * 7, 10)\n",
    "\n",
    "    def forward(self, x):\n",
    "        x = self.conv1(x)\n",
    "        x = self.conv2(x)\n",
    "        x = x.view(x.size(0), -1)\n",
    "        output = self.out(x)\n",
    "        return output, x"
   ]
  },
  {
   "cell_type": "code",
   "execution_count": 31,
   "metadata": {},
   "outputs": [],
   "source": [
    "class CnnLstm(nn.Module):\n",
    "    def __init__(self):\n",
    "        super(CnnLstm, self).__init__()\n",
    "        self.cnn = CNN()\n",
    "        self.rnn = nn.LSTM(\n",
    "            input_size=1568,\n",
    "            hidden_size=64,\n",
    "            num_layers=1,\n",
    "            batch_first=True)\n",
    "        self.linear = nn.Linear(64, 10)\n",
    "\n",
    "    def forward(self, x):\n",
    "        batch_size, time_steps, channels, height, width = x.size()\n",
    "        c_in = x.view(batch_size * time_steps, channels, height, width)\n",
    "        _, c_out = self.cnn(c_in)\n",
    "        r_in = c_out.view(batch_size, time_steps, -1)\n",
    "        r_out, (_, _) = self.rnn(r_in)\n",
    "        r_out2 = self.linear(r_out[:, -1, :])\n",
    "        return f.log_softmax(r_out2, dim=1)"
   ]
  },
  {
   "cell_type": "code",
   "execution_count": 35,
   "metadata": {},
   "outputs": [],
   "source": [
    "class TrainCNNLSTM:\n",
    "    def __init__(self):\n",
    "        self.seed = 1\n",
    "        self.batch_size = 50\n",
    "        self.test_batch_size = 1000\n",
    "        self.epoch = 1\n",
    "        self.learning_rate = 0.01\n",
    "        self.step = 100\n",
    "        self.train_loader = None\n",
    "        self.test_loader = None\n",
    "        self.model = CnnLstm()\n",
    "\n",
    "    def load_data(self):\n",
    "        data_loader = DataLoader()\n",
    "        self.train_loader = data_loader.get_train_data(self.batch_size)\n",
    "        self.test_loader = data_loader.get_test_data(self.test_batch_size)\n",
    "\n",
    "    def train(self):\n",
    "        optimizer = torch.optim.SGD(self.model.parameters(), lr=self.learning_rate)\n",
    "        for iteration, (data, target) in enumerate(self.train_loader):\n",
    "\n",
    "            data = np.expand_dims(data, axis=1)\n",
    "            data = torch.FloatTensor(data)\n",
    "\n",
    "            data, target = Variable(data), Variable(target)\n",
    "            optimizer.zero_grad()\n",
    "            output = self.model(data)\n",
    "            loss = f.nll_loss(output, target)\n",
    "            loss.backward()\n",
    "            optimizer.step()\n",
    "            if iteration % self.step == 0:\n",
    "                print('Epoch: {} | train loss: {:.4f}'.format(\n",
    "                    self.epoch, loss.item()))\n",
    "\n",
    "    def test(self):\n",
    "        test_loss = 0\n",
    "        correct = 0\n",
    "        for data, target in self.test_loader:\n",
    "            data = np.expand_dims(data, axis=1)\n",
    "            data = torch.FloatTensor(data)\n",
    "            print(target.size)\n",
    "\n",
    "            data, target = Variable(data, volatile=True), Variable(target)\n",
    "            output = self.model(data)\n",
    "            test_loss += f.nll_loss(\n",
    "                output, target, size_average=False).item()  # sum up batch loss\n",
    "            pred = torch.max(output, 1)[1].data.squeeze()\n",
    "            correct += pred.eq(target.data.view_as(pred)).long().cpu().sum()\n",
    "\n",
    "        test_loss /= len(self.test_loader.dataset)\n",
    "        print(\n",
    "            '\\nTest set: Average loss: {:.4f}, Accuracy: {}/{} ({:.0f}%)\\n'.format(\n",
    "                test_loss, correct, len(self.test_loader.dataset),\n",
    "                100. * correct / len(self.test_loader.dataset)))\n",
    "\n",
    "\n",
    "train = TrainCNNLSTM()\n",
    "train.load_data()\n",
    "train.train()\n",
    "train.test()"
   ]
  },
  {
   "cell_type": "code",
   "execution_count": null,
   "metadata": {},
   "outputs": [],
   "source": []
  }
 ],
 "metadata": {
  "kernelspec": {
   "display_name": "Python 3",
   "language": "python",
   "name": "python3"
  },
  "language_info": {
   "codemirror_mode": {
    "name": "ipython",
    "version": 3
   },
   "file_extension": ".py",
   "mimetype": "text/x-python",
   "name": "python",
   "nbconvert_exporter": "python",
   "pygments_lexer": "ipython3",
   "version": "3.7.4"
  }
 },
 "nbformat": 4,
 "nbformat_minor": 2
}
