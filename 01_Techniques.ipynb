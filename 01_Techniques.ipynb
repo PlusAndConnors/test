{
  "cells": [
    {
      "cell_type": "markdown",
      "metadata": {
        "id": "MNvlmNz3gwOn"
      },
      "source": [
        "# 학습에 도움이 되는 테크닉"
      ]
    },
    {
      "cell_type": "markdown",
      "metadata": {
        "id": "WEMOKqbrYOUf"
      },
      "source": [
        "## 1. Learning Rate Scheduler\n",
        "\n",
        "학습 중 학습률(learning rate, LR)을 조정\n",
        "\n",
        " ![image.png](https://img1.daumcdn.net/thumb/R1280x0/?scode=mtistory2&fname=https%3A%2F%2Fblog.kakaocdn.net%2Fdn%2FbeNGrz%2FbtqQzRMQAQx%2FE5HgPj8oe4AugHgHxS7RlK%2Fimg.png)\n",
        "\n",
        "### optim.lr_scheduler\n",
        " - [doc] (https://pytorch.org/docs/stable/optim.html)"
      ]
    },
    {
      "cell_type": "code",
      "execution_count": null,
      "metadata": {},
      "outputs": [],
      "source": [
        "%matplotlib inline"
      ]
    },
    {
      "cell_type": "code",
      "execution_count": null,
      "metadata": {
        "id": "uuxJEA87jTcK"
      },
      "outputs": [],
      "source": [
        "import matplotlib.pyplot as plt\n",
        "import torch.nn as nn\n",
        "import torch.nn.functional as F\n",
        "from torch.optim import SGD, lr_scheduler"
      ]
    },
    {
      "cell_type": "code",
      "execution_count": null,
      "metadata": {
        "id": "2gyzM_OF0Zw5"
      },
      "outputs": [],
      "source": [
        "class Net(nn.Module):\n",
        "    def __init__(self):\n",
        "        super().__init__()\n",
        "        self.fc1 = nn.Linear(28 * 28, 256)\n",
        "        self.fc2 = nn.Linear(256, 128)\n",
        "        self.fc3 = nn.Linear(128, 10)\n",
        "\n",
        "    def forward(self, x):\n",
        "        x = x.view(-1, 28 * 28)\n",
        "        x = F.relu(self.fc1(x))\n",
        "        x = F.relu(self.fc2(x))\n",
        "        return self.fc3(x)"
      ]
    },
    {
      "cell_type": "code",
      "execution_count": null,
      "metadata": {
        "id": "QgLv3VK8K6zK"
      },
      "outputs": [],
      "source": [
        "lr = 0.01\n",
        "step_size = 30\n",
        "gamma = 0.1\n",
        "\n",
        "model = Net()\n",
        "\n",
        "# 옵티마이저와 스케쥴러를 설정합니다\n",
        "optimizer = SGD(model.parameters(), lr=lr)\n",
        "scheduler = lr_scheduler.StepLR(optimizer, step_size=step_size, gamma=gamma) # step_size마다 학습률에 gamma를 곱합니다\n",
        "\n",
        "lrs = []\n",
        "for i in range(100):\n",
        "    lrs.append(scheduler.get_last_lr()[0])\n",
        "    optimizer.step()\n",
        "    scheduler.step() # 스케쥴러를 사용하기 위해서 필수적으로 들어가야 합니다\n",
        "\n",
        "plt.plot(range(100), lrs)\n",
        "plt.show()"
      ]
    },
    {
      "cell_type": "markdown",
      "metadata": {
        "id": "5sCDot73ctvA"
      },
      "source": [
        "## 2. Early Stopping\n",
        "\n",
        "Validation 데이터셋을 두고, validation 데이터셋의 예측 결과를 통해 학습 중단 시기를 결정하는 기법\n",
        "\n",
        "![image.png](https://miro.medium.com/max/1400/1*06sTlOC3AYeZAjzUDwbaMw@2x.jpeg)"
      ]
    },
    {
      "cell_type": "code",
      "execution_count": null,
      "metadata": {
        "id": "hTMzKyr3nlv7"
      },
      "outputs": [],
      "source": [
        "import torch\n",
        "from torch.utils.data import DataLoader\n",
        "from torchvision import transforms\n",
        "from torchvision.datasets import FashionMNIST"
      ]
    },
    {
      "cell_type": "code",
      "execution_count": null,
      "metadata": {},
      "outputs": [],
      "source": [
        "# 학습 데이터셋과 테스트 데이터셋을 다운로드받습니다\n",
        "train_dataset = FashionMNIST(\n",
        "    root=\"./data/\", train=True, download=True, transform=transforms.ToTensor()\n",
        ")\n",
        "valid_dataset = FashionMNIST(\n",
        "    root=\"./data/\", train=False, download=False, transform=transforms.ToTensor()\n",
        ")\n",
        "\n",
        "# 데이터로더를 생성합니다\n",
        "batch_size = 64\n",
        "train_loader = DataLoader(dataset=train_dataset, batch_size=batch_size, shuffle=True)\n",
        "valid_loader = DataLoader(dataset=valid_dataset, batch_size=batch_size, shuffle=False)"
      ]
    },
    {
      "cell_type": "code",
      "execution_count": null,
      "metadata": {},
      "outputs": [],
      "source": [
        "# 학습을 수행할 디바이스를 설정합니다\n",
        "device = torch.device(\"cuda:0\" if torch.cuda.is_available() else \"cpu\")\n",
        "print(device)\n",
        "\n",
        "# 모델을 디바이스에 올립니다\n",
        "model.to(device)"
      ]
    },
    {
      "cell_type": "code",
      "execution_count": null,
      "metadata": {
        "id": "0nQimUqQxGGH"
      },
      "outputs": [],
      "source": [
        "count = 0\n",
        "best_acc = 0\n",
        "patience = 3\n",
        "\n",
        "for _ in range(100000):\n",
        "    correct = 0\n",
        "\n",
        "    model.train()\n",
        "    for data, target in train_loader:\n",
        "        data, target = data.to(device), target.to(device)\n",
        "        output = model(data)\n",
        "        loss = F.cross_entropy(output, target)\n",
        "        loss.backward()\n",
        "        optimizer.step()\n",
        "        optimizer.zero_grad()\n",
        "\n",
        "    model.eval()\n",
        "    valid_acc = 0\n",
        "    with torch.no_grad():\n",
        "        for data, target in valid_loader:\n",
        "            data, target = data.to(device), target.to(device)\n",
        "            output = model(data)\n",
        "            pred = output.max(dim=1)[1]\n",
        "            correct += (pred == target).sum().item()\n",
        "        valid_acc = 100 * correct / len(valid_dataset) # 지정한 성능 매트릭으로 평가합니다\n",
        "\n",
        "    if valid_acc > best_acc: # 더 좋은 성능이 나온다면\n",
        "        best_acc = valid_acc # 최고 성능 기록을 갱신합니다\n",
        "        count = 0 # 카운트를 초기화합니다\n",
        "        torch.save(model.state_dict(), './model.pt') # 모델을 저장합니다\n",
        "    else: # 성능이 오르지 않는다면\n",
        "        count += 1 # 카운트를 추가합니다\n",
        "        if count >= patience: # 참기로 한 횟수(patience)만큼 성능이 오르지 않았다면\n",
        "            break # 학습을 멈춥니다"
      ]
    },
    {
      "cell_type": "markdown",
      "metadata": {
        "id": "AtgtyCq7eck2"
      },
      "source": [
        "## 3. Dropout : `nn.Dropout2d`\n",
        "학습 중 뉴런을 일시적으로 제거(drop)하는 기법\n",
        "- Dropout rate가 0.5인 경우, 4개의 뉴런은 각각 0.5의 확률로 이번 학습에서 제거될지 말지를 결정\n",
        "  - [내용 참고](https://heytech.tistory.com/127)\n",
        "\n",
        "![imgae.png](https://img1.daumcdn.net/thumb/R1280x0/?scode=mtistory2&fname=https%3A%2F%2Fblog.kakaocdn.net%2Fdn%2Fm5YtD%2FbtrbwgszFXZ%2FxdUhkeyK2lmrQXYy7HioL0%2Fimg.png)\n",
        "\n",
        "- [doc] (https://pytorch.org/docs/stable/generated/torch.nn.Dropout2d.html)"
      ]
    },
    {
      "cell_type": "markdown",
      "metadata": {
        "id": "W_at6nZOuTre"
      },
      "source": [
        "- [N, C, H, W] = [N, 1, 32, 32] 사이즈의 입력이 들어갈 예정\n",
        "- 예측 클래스는 8개\n",
        "- 3개의 fully connected layer로 구성됨 (fc1, fc2, fc3)\n",
        "    - 활성함수는 ReLU를 사용하며, 마지막 레이어에는 활성함수가 없음\n",
        "- 첫 dropout은 input layer에 적용함\n",
        "    - Dropout은 25% 확률로 실행함\n",
        "- 두번째 dropout은 fc2에 적용함\n",
        "    - Dropout은 20% 확률로 실행함"
      ]
    },
    {
      "cell_type": "code",
      "execution_count": null,
      "metadata": {
        "id": "s2myTmx9JMhN"
      },
      "outputs": [],
      "source": [
        "class Net(nn.Module):\n",
        "    def __init__(self):\n",
        "        super().__init__()\n",
        "        self.fc1 = nn.Linear(32 * 32, 256)\n",
        "        self.fc2 = nn.Linear(256, 128)\n",
        "        self.fc3 = nn.Linear(128, 8)\n",
        "        self.dropout1 = nn.Dropout(p=0.25)\n",
        "        self.dropout2 = nn.Dropout(p=0.2)\n",
        "\n",
        "    def forward(self, x):\n",
        "        x = x.view(-1, 32 * 32)\n",
        "        x = self.dropout1(x)\n",
        "        x = F.relu(self.fc1(x))\n",
        "        x = self.dropout2(F.relu(self.fc2(x)))\n",
        "        x = self.fc3(x)\n",
        "        return x"
      ]
    },
    {
      "cell_type": "code",
      "execution_count": null,
      "metadata": {
        "id": "ZX6WMdyjvhw4"
      },
      "outputs": [],
      "source": [
        "class Net(nn.Module):\n",
        "    def __init__(self):\n",
        "        super().__init__()\n",
        "        self.fc1 = nn.Linear(32 * 32, 256)\n",
        "        self.fc2 = nn.Linear(256, 128)\n",
        "        self.fc3 = nn.Linear(128, 8)\n",
        "\n",
        "    def forward(self, x):\n",
        "        x = x.view(-1, 32 * 32)\n",
        "        x = F.dropout(x, p=0.25)\n",
        "        x = F.relu(self.fc1(x))\n",
        "        x = F.dropout(F.relu(self.fc2(x)), p=0.2)\n",
        "        x = self.fc3(x)\n",
        "        return x"
      ]
    },
    {
      "cell_type": "markdown",
      "metadata": {
        "id": "7f7jg-aqd_hq"
      },
      "source": [
        "## 4. Batch Normalization\n",
        "\n",
        "- 학습 과정에서 각 배치 단위 별로 데이터가 다양한 분포를 가지더라도 각 배치별로 평균과 분산을 이용해 정규화하는 것을 뜻함\n",
        "- batch 단위나 layer에 따라서 입력 값의 분포가 모두 다르지만 정규화를 통하여 분포를 zero mean gaussian 형태로 만듦\n",
        "    - [내용 참고](https://gaussian37.github.io/dl-concept-batchnorm/)\n",
        "\n",
        "![image.png](https://gaussian37.github.io/assets/img/dl/concept/batchnorm/4.png)\n",
        "\n",
        "- [doc] (https://pytorch.org/docs/stable/generated/torch.nn.BatchNorm2d.html)"
      ]
    },
    {
      "cell_type": "code",
      "execution_count": null,
      "metadata": {
        "id": "dsK1rtKJH-SB"
      },
      "outputs": [],
      "source": [
        "class Net(nn.Module):\n",
        "    def __init__(self):\n",
        "        super().__init__()\n",
        "        self.fc1 = nn.Linear(32 * 32, 256)\n",
        "        self.bn1 = nn.BatchNorm1d(256)\n",
        "        self.fc2 = nn.Linear(256, 128)\n",
        "        self.bn2 = nn.BatchNorm1d(128)\n",
        "        self.fc3 = nn.Linear(128, 4)\n",
        "\n",
        "    def forward(self, x):\n",
        "        x = x.view(-1, 32 * 32)\n",
        "        x = self.fc1(x)\n",
        "        x = self.bn1(x)\n",
        "        x = F.relu(x)\n",
        "        x = self.fc2(x)\n",
        "        x = self.bn2(x)\n",
        "        x = F.relu(x)\n",
        "        return self.fc3(x)"
      ]
    },
    {
      "cell_type": "code",
      "execution_count": null,
      "metadata": {
        "id": "rwZrQgTi02ey"
      },
      "outputs": [],
      "source": [
        "model = Net()\n",
        "model(torch.rand(2, 32, 32))"
      ]
    },
    {
      "cell_type": "code",
      "execution_count": null,
      "metadata": {},
      "outputs": [],
      "source": []
    }
  ],
  "metadata": {
    "colab": {
      "provenance": []
    },
    "kernelspec": {
      "display_name": "Python 3",
      "name": "python3"
    },
    "language_info": {
      "codemirror_mode": {
        "name": "ipython",
        "version": 3
      },
      "file_extension": ".py",
      "mimetype": "text/x-python",
      "name": "python",
      "nbconvert_exporter": "python",
      "pygments_lexer": "ipython3",
      "version": "3.11.9"
    }
  },
  "nbformat": 4,
  "nbformat_minor": 0
}
